{
 "cells": [
  {
   "cell_type": "code",
   "execution_count": null,
   "id": "298963e8-925c-45ed-816a-1abe43f7b933",
   "metadata": {},
   "outputs": [],
   "source": [
    "pip install requests beautifulsoup4\n"
   ]
  },
  {
   "cell_type": "code",
   "execution_count": null,
   "id": "9c22799f-3d10-4c03-9a40-79f7daf351d6",
   "metadata": {},
   "outputs": [],
   "source": [
    "pip install mysql-connector-python\n"
   ]
  },
  {
   "cell_type": "code",
   "execution_count": null,
   "id": "dbeb5c66-e1fe-498b-96a2-515685ae5212",
   "metadata": {},
   "outputs": [],
   "source": [
    "import requests\n",
    "from bs4 import BeautifulSoup\n",
    "import mysql.connector\n",
    "import time\n",
    "\n",
    "\n",
    "url = 'https://books.toscrape.com/catalogue/page-{}.html'\n",
    "\n",
    "def get_page_content(page_url):\n",
    "    response = requests.get(page_url)\n",
    "    return BeautifulSoup(response.content, 'html.parser') \n",
    "\n",
    "\n",
    "def scrape_books_from_page(page_url):\n",
    "    soup = get_page_content(page_url)\n",
    "    book_containers = soup.find_all('article', class_='product_pod')\n",
    "    books = []\n",
    "    for container in book_containers:\n",
    "        books.append(scrape_book_details(container))\n",
    "    return books\n",
    "\n",
    "def scrape_book_details(book_container):\n",
    "    Title = book_container.find('h3').find('a')['title']\n",
    "    Cost = book_container.find('p', class_='price_color').text.strip('£').replace('Â', '')\n",
    "    Rating_text = book_container.find('p', class_='star-rating')['class'][1]\n",
    "    Stock_Availability = book_container.find('p', class_='instock availability').text.strip()\n",
    "\n",
    "    # Map rating text → numeric value\n",
    "    rating_mapping = {\n",
    "        \"One\": 1.0,\n",
    "        \"Two\": 2.0,\n",
    "        \"Three\": 3.0,\n",
    "        \"Four\": 4.0,\n",
    "        \"Five\": 5.0\n",
    "    }\n",
    "    Rating = rating_mapping.get(Rating_text, 0.0)\n",
    "\n",
    "    return Title, Cost, Rating, Stock_Availability\n",
    "\n",
    "    \n",
    "page_url = url.format(1)\n",
    "\n",
    "\n",
    "books_on_first_page = scrape_books_from_page(page_url)\n",
    "\n",
    "for book in books_on_first_page:\n",
    "    print(f\"Title: {book[0]}, Cost: £{book[1]}, Rating: {book[2]} Stock_Availability: {book[3]}\")\n",
    "\n",
    "\n"
   ]
  },
  {
   "cell_type": "code",
   "execution_count": null,
   "id": "822a297d-71d4-49d5-91a0-044d0fa5cd51",
   "metadata": {},
   "outputs": [],
   "source": [
    "all_books = []\n",
    "\n",
    "page_number = 1\n",
    "\n",
    "while True:\n",
    "    # Construct the URL for the current page\n",
    "    page_url = url.format(page_number)\n",
    "    \n",
    "    # Scrape books from the current page\n",
    "    full_book_and_containers_on_page = scrape_books_from_page(page_url)\n",
    "\n",
    "    # If no books are found, break the loop (assuming no books means we've reached the end)\n",
    "    if not full_book_and_containers_on_page:\n",
    "        break\n",
    "    \n",
    "    # Add the books from the current page to the all_books list\n",
    "    all_books.extend(full_book_and_containers_on_page)\n",
    "\n",
    "    print(f\"Page {page_number}: Found {len(full_book_and_containers_on_page)} books\")\n",
    "    \n",
    "    page_number += 1\n",
    "time.sleep(2)\n",
    "\n",
    "for book in all_books:\n",
    "    Title, Cost, Rating, Stock_Availability = book\n",
    "    savetoDB(Title, Cost, Rating, Stock_Availability)\n"
   ]
  }
 ],
 "metadata": {
  "kernelspec": {
   "display_name": "Python 3",
   "language": "python",
   "name": "python3"
  },
  "language_info": {
   "codemirror_mode": {
    "name": "ipython",
    "version": 3
   },
   "file_extension": ".py",
   "mimetype": "text/x-python",
   "name": "python",
   "nbconvert_exporter": "python",
   "pygments_lexer": "ipython3",
   "version": "3.12.1"
  }
 },
 "nbformat": 4,
 "nbformat_minor": 5
}
