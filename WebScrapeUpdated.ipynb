To upload your VS Code project to your GitHub repository "Webscrape-Books", follow these steps:

1. **Initialize Git in your project folder:**
    Open the terminal in VS Code and run:
    ```
    git init
    ```

2. **Add your files to Git:**
    ```
    git add .
    ```

3. **Commit your changes:**
    ```
    git commit -m "Initial commit"
    ```

4. **Connect your local repo to your GitHub repository:**
    ```
    git remote add origin https://github.com/Drook93/Webscrape-Books.git
    ```

5. **Push your code to GitHub (using the `main` branch):**
    ```
    git pull origin main --rebase
    git push -u origin main
    ```

Your code should now be uploaded to the "Webscrape-Books" repository on GitHub.
